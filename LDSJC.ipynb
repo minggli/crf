{
 "cells": [
  {
   "cell_type": "markdown",
   "metadata": {
    "slideshow": {
     "slide_type": "slide"
    }
   },
   "source": [
    "## Topic: Conditional Random Fields\n",
    "\n",
    "London Data Science Journal Club, Oct 2019"
   ]
  },
  {
   "attachments": {},
   "cell_type": "markdown",
   "metadata": {
    "slideshow": {
     "slide_type": "slide"
    }
   },
   "source": [
    "### Motivation\n",
    "\n",
    "<figure>\n",
    "<center><img src=\"http://www.davidsbatista.net/assets/images/2017-11-13-Conditional_Random_Fields.png\" width=\"250\">\n",
    "    <figcaption><font size=\"-1\">Linear-chain CRF conditioned globally on <b>X</b>. Wallach H. 2004</font></figcaption></center></figure>\n",
    "\n",
    "\n",
    "- A probablistic approach for modelling sequential data and making structured prediction\n",
    "- A special case of Markov Random Fields, and general Probablistic Graphical Models\n",
    "- Wide applications in NLP and Computer Vision, etc."
   ]
  },
  {
   "cell_type": "markdown",
   "metadata": {},
   "source": [
    "### Random Fields\n",
    "\n",
    "A random field $F = \\{F_{v}: v \\in V \\}$ where\n",
    "- $v$ is index of elements in some $n$-dimensioned arbitrary space $V$;\n",
    "- $F_{v}$ is $d$-dimensioned random variable at $v$.\n",
    "<div style=\"text-align: right\"> wikipedia, 2019 </div>"
   ]
  },
  {
   "cell_type": "markdown",
   "metadata": {},
   "source": [
    "### Markov Random Fields\n",
    "\n",
    "Given an undirected graph $G = (V, E)$, random field $F$ is known as MRF with respect to G if local markov property is satistfied such that:\n",
    "\n",
    "$$F_v \\perp\\!\\!\\!\\perp F_{V\\setminus{\\{\\partial_v}, v\\}} \\mid F_{\\partial_v}$$\n",
    "\n",
    "where $\\partial_v$ is the open neighbourhood of $F_v$, also known as <i>Markov blanket</i> of $F_v$ provided it's a Markov Random Field.\n",
    "\n",
    "\n",
    "<figure>\n",
    "<center><img src=\"https://miro.medium.com/max/314/1*v4t59hROiSF9eTFM8tcEeg.png\" width=\"60\">\n",
    "    <figcaption><font size=\"-1\">Markov blanket in undirected graph. Bishop C. 2006</font></figcaption></center></figure>\n",
    "\n"
   ]
  },
  {
   "cell_type": "markdown",
   "metadata": {},
   "source": [
    "Hammersley-Clifford Theorem"
   ]
  },
  {
   "cell_type": "markdown",
   "metadata": {
    "slideshow": {
     "slide_type": "slide"
    }
   },
   "source": [
    "### Representation"
   ]
  },
  {
   "cell_type": "markdown",
   "metadata": {},
   "source": [
    "<figure>\n",
    "<center><img src=\"http://www.davidsbatista.net/assets/images/2017-11-13-HMM-MEMM-CRF.png\" width=\"600\">\n",
    "    <figcaption><font size=\"-1\">HMM, MEMM, and CRF respectively. Lafferty et al. 2001</font></figcaption></center></figure>\n"
   ]
  },
  {
   "cell_type": "markdown",
   "metadata": {},
   "source": [
    "### Inference\n",
    "\n",
    "Viterbi algorithm"
   ]
  },
  {
   "cell_type": "markdown",
   "metadata": {},
   "source": [
    "### Learning"
   ]
  },
  {
   "cell_type": "code",
   "execution_count": null,
   "metadata": {},
   "outputs": [],
   "source": []
  }
 ],
 "metadata": {
  "celltoolbar": "Slideshow",
  "kernelspec": {
   "display_name": "Python 3",
   "language": "python",
   "name": "python3"
  },
  "language_info": {
   "codemirror_mode": {
    "name": "ipython",
    "version": 3
   },
   "file_extension": ".py",
   "mimetype": "text/x-python",
   "name": "python",
   "nbconvert_exporter": "python",
   "pygments_lexer": "ipython3",
   "version": "3.6.8"
  }
 },
 "nbformat": 4,
 "nbformat_minor": 2
}
