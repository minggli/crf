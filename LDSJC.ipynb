{
 "cells": [
  {
   "cell_type": "markdown",
   "metadata": {
    "slideshow": {
     "slide_type": "slide"
    }
   },
   "source": [
    "## Topic: Conditional Random Fields\n",
    "\n",
    "London Data Science Journal Club, Oct 2019"
   ]
  },
  {
   "attachments": {},
   "cell_type": "markdown",
   "metadata": {
    "slideshow": {
     "slide_type": "slide"
    }
   },
   "source": [
    "### Motivation\n",
    "\n",
    "\n",
    "\n",
    "- A probablistic approach for modelling sequential data.\n",
    "- connection to Markov Random Fields and general graph theory.\n",
    "- connection to statistical mechancis through choice of potential function.\n",
    "- practical applications in NLP, Computer Vision, Bioinformatics, etc."
   ]
  },
  {
   "cell_type": "markdown",
   "metadata": {
    "slideshow": {
     "slide_type": "slide"
    }
   },
   "source": [
    "### Random Fields\n",
    "\n",
    "A random field is a function whose codomain is $\\{F_{v}: v \\in V \\}$ where\n",
    "- $v$ is index of elements in some $n$-dimensioned space $V$;\n",
    "- $F_{v}$ is a $d$-dimensioned random variable at $v$.\n",
    "<div style=\"text-align: right\"> wikipedia, 2019 </div>"
   ]
  },
  {
   "cell_type": "markdown",
   "metadata": {
    "slideshow": {
     "slide_type": "subslide"
    }
   },
   "source": [
    "### Markov Random Fields\n",
    "\n",
    "Given an undirected graph $G = (V, E)$, a random field whose collection is indexed by $V$ is known as MRF with respect to G if local markov property is satistfied such that:\n",
    "\n",
    "$$F_v \\perp\\!\\!\\!\\perp F_{V\\setminus{\\{\\partial_v}, v\\}} \\mid F_{\\partial_v}$$\n",
    "\n",
    "where $\\partial_v$ is the open neighbourhood of $F_v$, also known as <i>Markov blanket</i> of $F_v$ in an undirected graph.\n",
    "<figure>\n",
    "<center><img src=\"https://ermongroup.github.io/cs228-notes/assets/img/markovblanket.png\" width=\"150\">\n",
    "    <figcaption><font size=\"-1\">Markov blanket of X in an undirected graph.</font></figcaption></center>\n",
    "</figure>\n",
    "<div style=\"text-align: right\"> wikipedia, 2019 </div>"
   ]
  },
  {
   "cell_type": "markdown",
   "metadata": {
    "slideshow": {
     "slide_type": "subslide"
    }
   },
   "source": [
    "### Conditional Random Fields\n",
    "\n",
    "Consider a graph $G$ of $(V, E)$, $(X, Y)$ is a CRF if random variables $(Y_v)_{v \\in V}$ <i>globally</i> conditioned on $X$ satisfy markov property w.r.t. $G$:\n",
    "\n",
    "$$p(Y_v \\mid X, Y_{V\\setminus{v}}) =  p(Y_v \\mid X, Y_{\\partial_v})$$\n",
    "\n",
    "<div style=\"text-align: right\"> Lafferty et al. 2011 </div>\n"
   ]
  },
  {
   "cell_type": "markdown",
   "metadata": {
    "slideshow": {
     "slide_type": "slide"
    }
   },
   "source": [
    "### Representation"
   ]
  },
  {
   "cell_type": "markdown",
   "metadata": {
    "slideshow": {
     "slide_type": "subslide"
    }
   },
   "source": [
    "<figure>\n",
    "<center><img src=\"https://d3i71xaburhd42.cloudfront.net/5969fdc215def657b8e607aaa03cee3796c10d4a/7-Figure1.2-1.png\" width=\"400\">\n",
    "    <figcaption><font size=\"-1\">Diagram of the relationship between <i>generative-discriminative pairs</i>. Sutton and McCallum 2007</font></figcaption></center></figure>\n"
   ]
  },
  {
   "cell_type": "markdown",
   "metadata": {
    "slideshow": {
     "slide_type": "subslide"
    }
   },
   "source": [
    "#### Linear-chain CRF\n",
    "\n",
    "from a $n$-dimensional random field to 1-dimensional stochastic process to trade generalizability for tractability.\n",
    "\n",
    "<figure>\n",
    "<center><img src=\"http://www.davidsbatista.net/assets/images/2017-11-13-Conditional_Random_Fields.png\" width=\"250\">\n",
    "    <figcaption><font size=\"-1\">Linear-chain CRF globally conditioned on <b>X</b>. Wallach H. 2004</font></figcaption></center></figure>\n"
   ]
  },
  {
   "cell_type": "markdown",
   "metadata": {
    "slideshow": {
     "slide_type": "subslide"
    }
   },
   "source": [
    "#### Factorization\n",
    "\n",
    "<b>Hammersley-Clifford Theorem</b> definition. \"Suppose p is a strictly positive distribution, and G is an undirected graph that indexes the domain of p. Then p is Markov with respect to G if and only if p factorizes according to G.\"\n",
    " \n",
    "<div style=\"text-align: right\"> Sutton and McCallum 2010. </div>\n",
    "\n",
    "Therefore, CRF factorizes according to its cliques which are represented by positive <i>potential function</i> $\\psi_{C} > 0$:\n",
    "$$p({Y}\\mid {X}) = \\frac{1}{Z}\\prod_{c \\in C}\\psi_{c}(x_{c})$$\n",
    "where the <i>partition function</i>:\n",
    "$$Z = \\sum_{Y}\\prod_{c \\in C}\\psi_{c}(x_{c})$$\n",
    "\n",
    "According to Bishop C (2006), \"...it's convenient to express them as exponentials\" of <i>energy function</i> $E_{c}$, so that:\n",
    "\n",
    "$$\\psi_{c}(x_{c}) = \\exp{({-E(x_{c})})}$$\n",
    "and\n",
    "$$p({Y}\\mid {X}) = \\frac{1}{Z}\\prod_{c \\in C}\\psi_{c}(x_{c}) = \\frac{1}{Z}\\exp{(-\\sum_{c \\in C}E(x_{c})})$$\n",
    "\n"
   ]
  },
  {
   "cell_type": "markdown",
   "metadata": {
    "slideshow": {
     "slide_type": "subslide"
    }
   },
   "source": [
    "<figure>\n",
    "<center><img src=\"http://www.davidsbatista.net/assets/images/2017-11-13-CRF_Equation.png\" width=\"300\">\n",
    "    <figcaption><font size=\"-1\">Markov blanket in undirected graph. Bishop C. 2006</font></figcaption></center>\n",
    "</figure>\n"
   ]
  },
  {
   "cell_type": "markdown",
   "metadata": {},
   "source": [
    "### Learning\n",
    "\n",
    "Maximum Likelihood and forward-backward algorithm"
   ]
  },
  {
   "cell_type": "markdown",
   "metadata": {},
   "source": [
    "### Inference\n",
    "\n",
    "Viterbi algorithm"
   ]
  }
 ],
 "metadata": {
  "celltoolbar": "Slideshow",
  "kernelspec": {
   "display_name": "Python 3",
   "language": "python",
   "name": "python3"
  },
  "language_info": {
   "codemirror_mode": {
    "name": "ipython",
    "version": 3
   },
   "file_extension": ".py",
   "mimetype": "text/x-python",
   "name": "python",
   "nbconvert_exporter": "python",
   "pygments_lexer": "ipython3",
   "version": "3.6.8"
  }
 },
 "nbformat": 4,
 "nbformat_minor": 2
}
